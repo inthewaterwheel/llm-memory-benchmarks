{
 "cells": [
  {
   "cell_type": "code",
   "execution_count": 1,
   "id": "333392e4-60ac-4dde-a5da-e6db901c442e",
   "metadata": {},
   "outputs": [
    {
     "name": "stderr",
     "output_type": "stream",
     "text": [
      "/opt/conda/lib/python3.7/site-packages/transformers/generation/utils.py:1392: UserWarning: Neither `max_length` nor `max_new_tokens` has been set, `max_length` will default to 20 (`self.config.max_length`). Controlling `max_length` via the config is deprecated and `max_length` will be removed from the config in v5 of Transformers -- we recommend using `max_new_tokens` to control the maximum length of the generation.\n",
      "  UserWarning,\n"
     ]
    },
    {
     "name": "stdout",
     "output_type": "stream",
     "text": [
      "Running model:  facebook/opt-125m\n",
      "Memory used:  0.258976256\n",
      "Cleaned memory down to:  1.024e-06\n"
     ]
    },
    {
     "data": {
      "application/vnd.jupyter.widget-view+json": {
       "model_id": "62f1b509630b47cc81a0f21fd92481bb",
       "version_major": 2,
       "version_minor": 0
      },
      "text/plain": [
       "Downloading:   0%|          | 0.00/644 [00:00<?, ?B/s]"
      ]
     },
     "metadata": {},
     "output_type": "display_data"
    },
    {
     "data": {
      "application/vnd.jupyter.widget-view+json": {
       "model_id": "9afda0bd184c47149cbc356012efd17d",
       "version_major": 2,
       "version_minor": 0
      },
      "text/plain": [
       "Downloading:   0%|          | 0.00/663M [00:00<?, ?B/s]"
      ]
     },
     "metadata": {},
     "output_type": "display_data"
    },
    {
     "data": {
      "application/vnd.jupyter.widget-view+json": {
       "model_id": "4991dda44260428d9483378ed6cf9390",
       "version_major": 2,
       "version_minor": 0
      },
      "text/plain": [
       "Downloading:   0%|          | 0.00/685 [00:00<?, ?B/s]"
      ]
     },
     "metadata": {},
     "output_type": "display_data"
    },
    {
     "data": {
      "application/vnd.jupyter.widget-view+json": {
       "model_id": "d752252adbbc4237bb2a879104182d40",
       "version_major": 2,
       "version_minor": 0
      },
      "text/plain": [
       "Downloading:   0%|          | 0.00/899k [00:00<?, ?B/s]"
      ]
     },
     "metadata": {},
     "output_type": "display_data"
    },
    {
     "data": {
      "application/vnd.jupyter.widget-view+json": {
       "model_id": "82948c9a1ac84a37b677d631dc7c1611",
       "version_major": 2,
       "version_minor": 0
      },
      "text/plain": [
       "Downloading:   0%|          | 0.00/456k [00:00<?, ?B/s]"
      ]
     },
     "metadata": {},
     "output_type": "display_data"
    },
    {
     "data": {
      "application/vnd.jupyter.widget-view+json": {
       "model_id": "4959cf895a7a47dc9c3bb42b0489b3e9",
       "version_major": 2,
       "version_minor": 0
      },
      "text/plain": [
       "Downloading:   0%|          | 0.00/441 [00:00<?, ?B/s]"
      ]
     },
     "metadata": {},
     "output_type": "display_data"
    },
    {
     "name": "stdout",
     "output_type": "stream",
     "text": [
      "Running model:  facebook/opt-350m\n",
      "Memory used:  0.667186688\n",
      "Cleaned memory down to:  1.024e-06\n"
     ]
    },
    {
     "data": {
      "application/vnd.jupyter.widget-view+json": {
       "model_id": "4b74459885194c8c819ff324d77ecb5a",
       "version_major": 2,
       "version_minor": 0
      },
      "text/plain": [
       "Downloading:   0%|          | 0.00/653 [00:00<?, ?B/s]"
      ]
     },
     "metadata": {},
     "output_type": "display_data"
    },
    {
     "data": {
      "application/vnd.jupyter.widget-view+json": {
       "model_id": "57ceb5c3665c4780b479e11a032f3f11",
       "version_major": 2,
       "version_minor": 0
      },
      "text/plain": [
       "Downloading:   0%|          | 0.00/2.63G [00:00<?, ?B/s]"
      ]
     },
     "metadata": {},
     "output_type": "display_data"
    },
    {
     "data": {
      "application/vnd.jupyter.widget-view+json": {
       "model_id": "5ed6e051d0644b75ad71120bc7cd6613",
       "version_major": 2,
       "version_minor": 0
      },
      "text/plain": [
       "Downloading:   0%|          | 0.00/685 [00:00<?, ?B/s]"
      ]
     },
     "metadata": {},
     "output_type": "display_data"
    },
    {
     "data": {
      "application/vnd.jupyter.widget-view+json": {
       "model_id": "ca8c8e2024f34285a040cb5d6a1a1bdf",
       "version_major": 2,
       "version_minor": 0
      },
      "text/plain": [
       "Downloading:   0%|          | 0.00/899k [00:00<?, ?B/s]"
      ]
     },
     "metadata": {},
     "output_type": "display_data"
    },
    {
     "data": {
      "application/vnd.jupyter.widget-view+json": {
       "model_id": "b5129b2d678d440eb3baf3383975591f",
       "version_major": 2,
       "version_minor": 0
      },
      "text/plain": [
       "Downloading:   0%|          | 0.00/456k [00:00<?, ?B/s]"
      ]
     },
     "metadata": {},
     "output_type": "display_data"
    },
    {
     "data": {
      "application/vnd.jupyter.widget-view+json": {
       "model_id": "5a5870ab837b44b7aaa5e59ca24a5ade",
       "version_major": 2,
       "version_minor": 0
      },
      "text/plain": [
       "Downloading:   0%|          | 0.00/441 [00:00<?, ?B/s]"
      ]
     },
     "metadata": {},
     "output_type": "display_data"
    },
    {
     "name": "stdout",
     "output_type": "stream",
     "text": [
      "Running model:  facebook/opt-1.3b\n",
      "Memory used:  2.639000064\n",
      "Cleaned memory down to:  1.024e-06\n"
     ]
    },
    {
     "data": {
      "application/vnd.jupyter.widget-view+json": {
       "model_id": "503554eff4b2418e81da4408222ead11",
       "version_major": 2,
       "version_minor": 0
      },
      "text/plain": [
       "Downloading:   0%|          | 0.00/691 [00:00<?, ?B/s]"
      ]
     },
     "metadata": {},
     "output_type": "display_data"
    },
    {
     "data": {
      "application/vnd.jupyter.widget-view+json": {
       "model_id": "75b3008583e44679ab7d0d5a94bedb00",
       "version_major": 2,
       "version_minor": 0
      },
      "text/plain": [
       "Downloading:   0%|          | 0.00/5.30G [00:00<?, ?B/s]"
      ]
     },
     "metadata": {},
     "output_type": "display_data"
    },
    {
     "data": {
      "application/vnd.jupyter.widget-view+json": {
       "model_id": "fde242222d194d10a31c93e07a7d91fd",
       "version_major": 2,
       "version_minor": 0
      },
      "text/plain": [
       "Downloading:   0%|          | 0.00/685 [00:00<?, ?B/s]"
      ]
     },
     "metadata": {},
     "output_type": "display_data"
    },
    {
     "data": {
      "application/vnd.jupyter.widget-view+json": {
       "model_id": "2c82d99f2fd547f8ba1fb240087efb4f",
       "version_major": 2,
       "version_minor": 0
      },
      "text/plain": [
       "Downloading:   0%|          | 0.00/899k [00:00<?, ?B/s]"
      ]
     },
     "metadata": {},
     "output_type": "display_data"
    },
    {
     "data": {
      "application/vnd.jupyter.widget-view+json": {
       "model_id": "64d0b7e376194deeb17450b5ddc3ba8e",
       "version_major": 2,
       "version_minor": 0
      },
      "text/plain": [
       "Downloading:   0%|          | 0.00/456k [00:00<?, ?B/s]"
      ]
     },
     "metadata": {},
     "output_type": "display_data"
    },
    {
     "data": {
      "application/vnd.jupyter.widget-view+json": {
       "model_id": "c5f42505c03048eeb3e972e5cfe46507",
       "version_major": 2,
       "version_minor": 0
      },
      "text/plain": [
       "Downloading:   0%|          | 0.00/441 [00:00<?, ?B/s]"
      ]
     },
     "metadata": {},
     "output_type": "display_data"
    },
    {
     "name": "stdout",
     "output_type": "stream",
     "text": [
      "Running model:  facebook/opt-2.7b\n",
      "Memory used:  5.316085248\n",
      "Cleaned memory down to:  1.024e-06\n",
      "Running model:  facebook/opt-6.7b\n",
      "Memory used:  13.336560128\n",
      "Cleaned memory down to:  1.024e-06\n"
     ]
    }
   ],
   "source": [
    "from transformers import AutoModelForCausalLM, AutoTokenizer\n",
    "import torch\n",
    "import gc\n",
    "\n",
    "gc.collect()\n",
    "torch.cuda.empty_cache()\n",
    "torch.cuda.reset_peak_memory_stats()\n",
    "\n",
    "models = [\"facebook/opt-125m\", \"facebook/opt-350m\", \"facebook/opt-1.3b\", \"facebook/opt-2.7b\", \"facebook/opt-6.7b\"]\n",
    "\n",
    "for m in models:\n",
    "    model = AutoModelForCausalLM.from_pretrained(m, torch_dtype=torch.float16).cuda()\n",
    "\n",
    "    # the fast tokenizer currently does not work correctly\n",
    "    tokenizer = AutoTokenizer.from_pretrained(m, use_fast=False)\n",
    "\n",
    "    prompt = \"Hello, I'm am conscious and\"\n",
    "\n",
    "    input_ids = tokenizer(prompt, return_tensors=\"pt\").input_ids.cuda()\n",
    "\n",
    "    generated_ids = model.generate(input_ids)\n",
    "\n",
    "    tokenizer.batch_decode(generated_ids, skip_special_tokens=True)\n",
    "\n",
    "    print(\"Running model: \", m) \n",
    "    print(\"Memory used: \", torch.cuda.max_memory_allocated() / (1e9))\n",
    "    \n",
    "    del model, tokenizer\n",
    "    gc.collect()\n",
    "    torch.cuda.empty_cache()\n",
    "    torch.cuda.reset_peak_memory_stats()\n",
    "    \n",
    "    print(\"Cleaned memory down to: \", torch.cuda.max_memory_allocated() / (1e9))"
   ]
  },
  {
   "cell_type": "code",
   "execution_count": 2,
   "id": "e866766b-3cdc-4575-8f9b-7507f8bd667f",
   "metadata": {},
   "outputs": [
    {
     "name": "stdout",
     "output_type": "stream",
     "text": [
      "Running model:  facebook/opt-125m\n",
      "Memory used:  0.406125568\n",
      "Cleaned memory down to:  1.6896e-05\n",
      "Running model:  facebook/opt-350m\n",
      "Memory used:  1.066847744\n",
      "Cleaned memory down to:  1.6896e-05\n",
      "Running model:  facebook/opt-1.3b\n",
      "Memory used:  3.423556096\n",
      "Cleaned memory down to:  1.6896e-05\n",
      "Running model:  facebook/opt-2.7b\n",
      "Memory used:  6.646636032\n",
      "Cleaned memory down to:  1.6896e-05\n",
      "Running model:  facebook/opt-6.7b\n",
      "Memory used:  15.446245888\n",
      "Cleaned memory down to:  1.6896e-05\n"
     ]
    }
   ],
   "source": [
    "gc.collect()\n",
    "torch.cuda.empty_cache()\n",
    "torch.cuda.reset_peak_memory_stats()\n",
    "\n",
    "models = [\"facebook/opt-125m\", \"facebook/opt-350m\", \"facebook/opt-1.3b\", \"facebook/opt-2.7b\", \"facebook/opt-6.7b\"]\n",
    "\n",
    "for m in models:\n",
    "    model = AutoModelForCausalLM.from_pretrained(m, torch_dtype=torch.float16).cuda()\n",
    "\n",
    "    # the fast tokenizer currently does not work correctly\n",
    "    tokenizer = AutoTokenizer.from_pretrained(m, use_fast=False)\n",
    "\n",
    "    prompt = \"The following document contains a compilation of 3000 tweets from various authors:\"\n",
    "\n",
    "    input_ids = tokenizer(prompt, return_tensors=\"pt\").input_ids.cuda()\n",
    "\n",
    "    generated_ids = model.generate(input_ids, max_new_tokens=2000, min_length=2000)\n",
    "\n",
    "    tokenizer.batch_decode(generated_ids, skip_special_tokens=True)\n",
    "\n",
    "    print(\"Running model: \", m) \n",
    "    print(\"Memory used: \", torch.cuda.max_memory_allocated() / (1e9))\n",
    "    \n",
    "    del model, tokenizer\n",
    "    gc.collect()\n",
    "    torch.cuda.empty_cache()\n",
    "    torch.cuda.reset_peak_memory_stats()\n",
    "    \n",
    "    print(\"Cleaned memory down to: \", torch.cuda.max_memory_allocated() / (1e9))"
   ]
  },
  {
   "cell_type": "code",
   "execution_count": null,
   "id": "0564b987-0ff4-45f9-aa0d-5721a8b9f1b4",
   "metadata": {},
   "outputs": [],
   "source": []
  }
 ],
 "metadata": {
  "kernelspec": {
   "display_name": "Python 3 (ipykernel)",
   "language": "python",
   "name": "python3"
  },
  "language_info": {
   "codemirror_mode": {
    "name": "ipython",
    "version": 3
   },
   "file_extension": ".py",
   "mimetype": "text/x-python",
   "name": "python",
   "nbconvert_exporter": "python",
   "pygments_lexer": "ipython3",
   "version": "3.7.13"
  }
 },
 "nbformat": 4,
 "nbformat_minor": 5
}
